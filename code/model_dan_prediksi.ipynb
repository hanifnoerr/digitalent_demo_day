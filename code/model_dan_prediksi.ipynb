{
  "cells": [
    {
      "cell_type": "code",
      "execution_count": 1,
      "metadata": {
        "id": "t68PiZcNQpq0"
      },
      "outputs": [],
      "source": [
        "import re\n",
        "import string\n",
        "import numpy as np\n",
        "import pandas as pd\n",
        "import matplotlib.pyplot as plt\n",
        "\n",
        "from sklearn.preprocessing import LabelEncoder\n",
        "from sklearn.model_selection import train_test_split\n",
        "\n",
        "import tensorflow as tf\n",
        "from tensorflow.keras.utils import to_categorical\n",
        "from tensorflow.keras.preprocessing.text import Tokenizer\n",
        "from tensorflow.keras.preprocessing.sequence import pad_sequences\n",
        "from tensorflow.keras import regularizers\n",
        "\n",
        "from tensorflow.keras.optimizers import Adam\n",
        "from tensorflow.keras.models import Sequential\n",
        "from tensorflow.keras.callbacks import EarlyStopping\n",
        "from tensorflow.keras.layers import Dense, LSTM, Embedding, Bidirectional"
      ]
    },
    {
      "cell_type": "code",
      "execution_count": 2,
      "metadata": {
        "id": "S5tbyjXjQ2FQ",
        "colab": {
          "base_uri": "https://localhost:8080/"
        },
        "outputId": "29b52c16-f1ce-4792-d617-f0725346d7e8"
      },
      "outputs": [
        {
          "output_type": "stream",
          "name": "stdout",
          "text": [
            "Mounted at /content/drive\n"
          ]
        }
      ],
      "source": [
        "from google.colab import drive\n",
        "drive.mount('/content/drive')"
      ]
    },
    {
      "cell_type": "code",
      "execution_count": 3,
      "metadata": {
        "id": "8D27h1V5Qpq5"
      },
      "outputs": [],
      "source": [
        "# Text preprocessing function\n",
        "str_punc = string.punctuation.replace(',', '').replace(\"'\",'')\n",
        "\n",
        "def clean(text):\n",
        "    global str_punc\n",
        "    text = re.sub(r'[^a-zA-Z ]', '', text)\n",
        "    text = text.lower()\n",
        "    return text    "
      ]
    },
    {
      "cell_type": "code",
      "execution_count": 4,
      "metadata": {
        "id": "orwQDQnyQpq7"
      },
      "outputs": [],
      "source": [
        "# Read dataset & Preprocess text\n",
        "df_train = pd.read_csv('/content/drive/MyDrive/Assignment/train.txt', names=['Text', 'Emotion'], sep=';')\n",
        "df_val = pd.read_csv('/content/drive/MyDrive/Assignment/val.txt', names=['Text', 'Emotion'], sep=';')\n",
        "df_test = pd.read_csv('/content/drive/MyDrive/Assignment/test.txt', names=['Text', 'Emotion'], sep=';')\n",
        "\n",
        "X_train = df_train['Text'].apply(clean)\n",
        "y_train = df_train['Emotion']\n",
        "\n",
        "X_test = df_test['Text'].apply(clean)\n",
        "y_test = df_test['Emotion']\n",
        "\n",
        "X_val = df_val['Text'].apply(clean)\n",
        "y_val = df_val['Emotion']"
      ]
    },
    {
      "cell_type": "code",
      "execution_count": 5,
      "metadata": {
        "id": "_OFClA3aQpq9",
        "colab": {
          "base_uri": "https://localhost:8080/",
          "height": 809
        },
        "outputId": "6c5f6e02-7fa4-41b5-faf4-c6b7c8275a79"
      },
      "outputs": [
        {
          "output_type": "display_data",
          "data": {
            "text/plain": [
              "<Figure size 432x288 with 1 Axes>"
            ],
            "image/png": "[encoded data removed]"
          },
          "metadata": {
            "needs_background": "light"
          }
        },
        {
          "output_type": "display_data",
          "data": {
            "text/plain": [
              "<Figure size 432x288 with 1 Axes>"
            ],
            "image/png": "[encoded data removed]"
          },
          "metadata": {
            "needs_background": "light"
          }
        },
        {
          "output_type": "display_data",
          "data": {
            "text/plain": [
              "<Figure size 432x288 with 1 Axes>"
            ],
            "image/png": "[encoded data removed]"
          },
          "metadata": {
            "needs_background": "light"
          }
        }
      ],
      "source": [
        "# Visualize classes counts\n",
        "%matplotlib inline\n",
        "colors = np.array([\"gray\", 'orangered', 'hotpink', 'gold', 'teal', 'cornflowerblue'])\n",
        "\n",
        "plt.bar(y_train.value_counts().index,y_train.value_counts().values, color=colors)\n",
        "plt.title(\"Training data - classes counts\")\n",
        "plt.show()\n",
        "\n",
        "plt.bar(y_test.value_counts().index,y_test.value_counts().values, color=colors)\n",
        "plt.title(\"Testing data - classes counts\")\n",
        "plt.show()\n",
        "\n",
        "plt.bar(y_val.value_counts().index,y_val.value_counts().values, color=colors)\n",
        "plt.title(\"Validation data - classes counts\")\n",
        "plt.show()"
      ]
    },
    {
      "cell_type": "code",
      "source": [
        "y_train"
      ],
      "metadata": {
        "colab": {
          "base_uri": "https://localhost:8080/"
        },
        "id": "z0aZGOMRhZ3U",
        "outputId": "4c053966-6cc3-4905-a1a2-647c18fc9de9"
      },
      "execution_count": 6,
      "outputs": [
        {
          "output_type": "execute_result",
          "data": {
            "text/plain": [
              "0        sadness\n",
              "1        sadness\n",
              "2          anger\n",
              "3           love\n",
              "4          anger\n",
              "          ...   \n",
              "15995    sadness\n",
              "15996    sadness\n",
              "15997        joy\n",
              "15998      anger\n",
              "15999    sadness\n",
              "Name: Emotion, Length: 16000, dtype: object"
            ]
          },
          "metadata": {},
          "execution_count": 6
        }
      ]
    },
    {
      "cell_type": "code",
      "execution_count": 7,
      "metadata": {
        "id": "V9F2tWMGQpq_"
      },
      "outputs": [],
      "source": [
        "# Encode labels\n",
        "le = LabelEncoder()\n",
        "y_train = le.fit_transform(y_train)\n",
        "y_test = le.fit_transform(y_test)\n",
        "y_val = le.fit_transform(y_val)"
      ]
    },
    {
      "cell_type": "code",
      "execution_count": 8,
      "metadata": {
        "id": "7rUPHNP7VVJq",
        "colab": {
          "base_uri": "https://localhost:8080/"
        },
        "outputId": "4b4750aa-b48d-4782-c574-b9647a27e53a"
      },
      "outputs": [
        {
          "output_type": "execute_result",
          "data": {
            "text/plain": [
              "array([4, 4, 0, ..., 2, 0, 4])"
            ]
          },
          "metadata": {},
          "execution_count": 8
        }
      ],
      "source": [
        "y_train"
      ]
    },
    {
      "cell_type": "code",
      "execution_count": 9,
      "metadata": {
        "id": "d40kAQnHQprC",
        "colab": {
          "base_uri": "https://localhost:8080/"
        },
        "outputId": "7e22c2fe-67f9-45b7-d279-731796a91da0"
      },
      "outputs": [
        {
          "output_type": "stream",
          "name": "stdout",
          "text": [
            "Vocabulary size = 16185\n"
          ]
        }
      ],
      "source": [
        "# Tokenize words\n",
        "tokenizer = Tokenizer()\n",
        "tokenizer.fit_on_texts(pd.concat([X_train, X_test], axis=0))\n",
        "\n",
        "sequences_train = tokenizer.texts_to_sequences(X_train)\n",
        "sequences_test = tokenizer.texts_to_sequences(X_test)\n",
        "sequences_val = tokenizer.texts_to_sequences(X_val)\n",
        "\n",
        "X_train = pad_sequences(sequences_train, maxlen=256, truncating='pre')\n",
        "X_test = pad_sequences(sequences_test, maxlen=256, truncating='pre')\n",
        "X_val = pad_sequences(sequences_val, maxlen=256, truncating='pre')\n",
        "\n",
        "vocabSize = len(tokenizer.index_word) + 1\n",
        "print(f\"Vocabulary size = {vocabSize}\")"
      ]
    },
    {
      "cell_type": "code",
      "execution_count": 10,
      "metadata": {
        "id": "e67R2xDlQprD",
        "colab": {
          "base_uri": "https://localhost:8080/"
        },
        "outputId": "01e2be06-708f-4328-edc0-eac7c8f515cb"
      },
      "outputs": [
        {
          "output_type": "stream",
          "name": "stdout",
          "text": [
            "Found 400000 word vectors.\n",
            "Converted 15069 words (1115 misses)\n"
          ]
        }
      ],
      "source": [
        "# Read GloVE embeddings\n",
        "path_to_glove_file = '/content/drive/MyDrive/Assignment/glove.6B.200d.txt'\n",
        "num_tokens = vocabSize\n",
        "embedding_dim = 200\n",
        "hits = 0\n",
        "misses = 0\n",
        "embeddings_index = {}\n",
        "\n",
        "# Read word vectors\n",
        "with open(path_to_glove_file) as f:\n",
        "    for line in f:\n",
        "        word, coefs = line.split(maxsplit=1)\n",
        "        coefs = np.fromstring(coefs, \"f\", sep=\" \")\n",
        "        embeddings_index[word] = coefs\n",
        "print(\"Found %s word vectors.\" % len(embeddings_index))\n",
        "\n",
        "\n",
        "# Assign word vectors to our dictionary/vocabulary\n",
        "embedding_matrix = np.zeros((num_tokens, embedding_dim))\n",
        "for word, i in tokenizer.word_index.items():\n",
        "    embedding_vector = embeddings_index.get(word)\n",
        "    if embedding_vector is not None:\n",
        "        # Words not found in embedding index will be all-zeros.\n",
        "        # This includes the representation for \"padding\" and \"OOV\"\n",
        "        embedding_matrix[i] = embedding_vector\n",
        "        hits += 1\n",
        "    else:\n",
        "        misses += 1\n",
        "print(\"Converted %d words (%d misses)\" % (hits, misses))"
      ]
    },
    {
      "cell_type": "code",
      "execution_count": 11,
      "metadata": {
        "id": "wSJWnBz2QprE",
        "colab": {
          "base_uri": "https://localhost:8080/"
        },
        "outputId": "67dac374-a643-4872-d369-05dc7c374318"
      },
      "outputs": [
        {
          "output_type": "stream",
          "name": "stdout",
          "text": [
            "Model: \"sequential\"\n",
            "_________________________________________________________________\n",
            " Layer (type)                Output Shape              Param #   \n",
            "=================================================================\n",
            " embedding (Embedding)       (None, 256, 200)          3237000   \n",
            "                                                                 \n",
            " bidirectional (Bidirectiona  (None, 64)               44928     \n",
            " l)                                                              \n",
            "                                                                 \n",
            " dense (Dense)               (None, 128)               8320      \n",
            "                                                                 \n",
            " dense_1 (Dense)             (None, 6)                 774       \n",
            "                                                                 \n",
            "=================================================================\n",
            "Total params: 3,291,022\n",
            "Trainable params: 54,022\n",
            "Non-trainable params: 3,237,000\n",
            "_________________________________________________________________\n"
          ]
        }
      ],
      "source": [
        "# Build neural network architecture\n",
        "from keras.layers import LSTM, Activation, Dense, Dropout, Input, Embedding\n",
        "from keras.models import Model\n",
        "from tensorflow.keras.optimizers import RMSprop\n",
        "adam = Adam(learning_rate=0.05)\n",
        "#code here\n",
        "model = tf.keras.Sequential([\n",
        "    tf.keras.layers.Embedding(vocabSize, embedding_dim, input_length=256, weights=[embedding_matrix], trainable=False),\n",
        "    tf.keras.layers.Bidirectional(tf.keras.layers.GRU(32)),\n",
        "    tf.keras.layers.Dense(128, activation='relu'),\n",
        "    tf.keras.layers.Dense(6, activation= 'softmax')\n",
        "])\n",
        "model.compile(loss='sparse_categorical_crossentropy',optimizer='adam',metrics=['accuracy'])\n",
        "\n",
        "model.summary()\n"
      ]
    },
    {
      "cell_type": "code",
      "execution_count": 12,
      "metadata": {
        "id": "VSjuWsCsQprG"
      },
      "outputs": [],
      "source": [
        "#Callback\n",
        "callback = EarlyStopping(\n",
        "    monitor='loss',\n",
        "    patience=3,\n",
        "    restore_best_weights = True,\n",
        ")"
      ]
    },
    {
      "cell_type": "code",
      "execution_count": 13,
      "metadata": {
        "colab": {
          "base_uri": "https://localhost:8080/"
        },
        "id": "CM_GyHrFQprI",
        "outputId": "5beff7be-d55b-4abe-ff70-a26ec8a1ebf0"
      },
      "outputs": [
        {
          "output_type": "stream",
          "name": "stdout",
          "text": [
            "Epoch 1/100\n",
            "500/500 - 19s - loss: 1.0999 - accuracy: 0.5877 - val_loss: 0.5688 - val_accuracy: 0.7965 - 19s/epoch - 37ms/step\n",
            "Epoch 2/100\n",
            "500/500 - 12s - loss: 0.3815 - accuracy: 0.8616 - val_loss: 0.2880 - val_accuracy: 0.8940 - 12s/epoch - 24ms/step\n",
            "Epoch 3/100\n",
            "500/500 - 9s - loss: 0.2336 - accuracy: 0.9057 - val_loss: 0.2195 - val_accuracy: 0.9145 - 9s/epoch - 17ms/step\n",
            "Epoch 4/100\n",
            "500/500 - 9s - loss: 0.1736 - accuracy: 0.9271 - val_loss: 0.2092 - val_accuracy: 0.9160 - 9s/epoch - 17ms/step\n",
            "Epoch 5/100\n",
            "500/500 - 12s - loss: 0.1431 - accuracy: 0.9355 - val_loss: 0.1882 - val_accuracy: 0.9200 - 12s/epoch - 25ms/step\n",
            "Epoch 6/100\n",
            "500/500 - 13s - loss: 0.1225 - accuracy: 0.9446 - val_loss: 0.1766 - val_accuracy: 0.9205 - 13s/epoch - 26ms/step\n",
            "Epoch 7/100\n",
            "500/500 - 12s - loss: 0.1060 - accuracy: 0.9507 - val_loss: 0.1942 - val_accuracy: 0.9225 - 12s/epoch - 25ms/step\n",
            "Epoch 8/100\n",
            "500/500 - 11s - loss: 0.0943 - accuracy: 0.9566 - val_loss: 0.1768 - val_accuracy: 0.9320 - 11s/epoch - 23ms/step\n",
            "Epoch 9/100\n",
            "500/500 - 11s - loss: 0.0838 - accuracy: 0.9609 - val_loss: 0.1936 - val_accuracy: 0.9275 - 11s/epoch - 21ms/step\n",
            "Epoch 10/100\n",
            "500/500 - 10s - loss: 0.0743 - accuracy: 0.9658 - val_loss: 0.1959 - val_accuracy: 0.9245 - 10s/epoch - 20ms/step\n",
            "Epoch 11/100\n",
            "500/500 - 9s - loss: 0.0730 - accuracy: 0.9668 - val_loss: 0.1905 - val_accuracy: 0.9225 - 9s/epoch - 17ms/step\n",
            "Epoch 12/100\n",
            "500/500 - 9s - loss: 0.0615 - accuracy: 0.9725 - val_loss: 0.2131 - val_accuracy: 0.9210 - 9s/epoch - 17ms/step\n",
            "Epoch 13/100\n",
            "500/500 - 9s - loss: 0.0552 - accuracy: 0.9761 - val_loss: 0.2376 - val_accuracy: 0.9235 - 9s/epoch - 17ms/step\n",
            "Epoch 14/100\n",
            "500/500 - 9s - loss: 0.0524 - accuracy: 0.9778 - val_loss: 0.2234 - val_accuracy: 0.9260 - 9s/epoch - 17ms/step\n",
            "Epoch 15/100\n",
            "500/500 - 8s - loss: 0.0465 - accuracy: 0.9806 - val_loss: 0.2228 - val_accuracy: 0.9235 - 8s/epoch - 17ms/step\n",
            "Epoch 16/100\n",
            "500/500 - 8s - loss: 0.0413 - accuracy: 0.9827 - val_loss: 0.2357 - val_accuracy: 0.9275 - 8s/epoch - 17ms/step\n",
            "Epoch 17/100\n",
            "500/500 - 8s - loss: 0.0363 - accuracy: 0.9859 - val_loss: 0.2612 - val_accuracy: 0.9230 - 8s/epoch - 17ms/step\n",
            "Epoch 18/100\n",
            "500/500 - 9s - loss: 0.0360 - accuracy: 0.9856 - val_loss: 0.2710 - val_accuracy: 0.9205 - 9s/epoch - 18ms/step\n",
            "Epoch 19/100\n",
            "500/500 - 9s - loss: 0.0330 - accuracy: 0.9871 - val_loss: 0.2905 - val_accuracy: 0.9185 - 9s/epoch - 17ms/step\n",
            "Epoch 20/100\n",
            "500/500 - 9s - loss: 0.0311 - accuracy: 0.9889 - val_loss: 0.3062 - val_accuracy: 0.9185 - 9s/epoch - 17ms/step\n",
            "Epoch 21/100\n",
            "500/500 - 9s - loss: 0.0290 - accuracy: 0.9884 - val_loss: 0.2973 - val_accuracy: 0.9170 - 9s/epoch - 17ms/step\n",
            "Epoch 22/100\n",
            "500/500 - 9s - loss: 0.0253 - accuracy: 0.9911 - val_loss: 0.3453 - val_accuracy: 0.9160 - 9s/epoch - 17ms/step\n",
            "Epoch 23/100\n",
            "500/500 - 9s - loss: 0.0247 - accuracy: 0.9906 - val_loss: 0.3235 - val_accuracy: 0.9185 - 9s/epoch - 17ms/step\n",
            "Epoch 24/100\n",
            "500/500 - 8s - loss: 0.0297 - accuracy: 0.9879 - val_loss: 0.3449 - val_accuracy: 0.9225 - 8s/epoch - 17ms/step\n",
            "Epoch 25/100\n",
            "500/500 - 9s - loss: 0.0249 - accuracy: 0.9908 - val_loss: 0.3141 - val_accuracy: 0.9270 - 9s/epoch - 18ms/step\n",
            "Epoch 26/100\n",
            "500/500 - 9s - loss: 0.0211 - accuracy: 0.9926 - val_loss: 0.3410 - val_accuracy: 0.9195 - 9s/epoch - 17ms/step\n",
            "Epoch 27/100\n",
            "500/500 - 9s - loss: 0.0204 - accuracy: 0.9922 - val_loss: 0.3610 - val_accuracy: 0.9235 - 9s/epoch - 17ms/step\n",
            "Epoch 28/100\n",
            "500/500 - 9s - loss: 0.0184 - accuracy: 0.9934 - val_loss: 0.3728 - val_accuracy: 0.9210 - 9s/epoch - 17ms/step\n",
            "Epoch 29/100\n",
            "500/500 - 8s - loss: 0.0167 - accuracy: 0.9937 - val_loss: 0.3838 - val_accuracy: 0.9195 - 8s/epoch - 17ms/step\n",
            "Epoch 30/100\n",
            "500/500 - 9s - loss: 0.0187 - accuracy: 0.9924 - val_loss: 0.3699 - val_accuracy: 0.9175 - 9s/epoch - 17ms/step\n",
            "Epoch 31/100\n",
            "500/500 - 9s - loss: 0.0219 - accuracy: 0.9920 - val_loss: 0.3592 - val_accuracy: 0.9290 - 9s/epoch - 17ms/step\n",
            "Epoch 32/100\n",
            "500/500 - 9s - loss: 0.0269 - accuracy: 0.9899 - val_loss: 0.3445 - val_accuracy: 0.9320 - 9s/epoch - 17ms/step\n",
            "Selesai\n"
          ]
        }
      ],
      "source": [
        "# Fit model\n",
        "history = model.fit(\n",
        "    X_train, \n",
        "    y_train, \n",
        "    batch_size= 32,\n",
        "    epochs=100, \n",
        "    validation_data=(X_val, y_val), \n",
        "    verbose=2,\n",
        "    callbacks=callback)\n",
        "\n",
        "print(\"Selesai\")\n"
      ]
    },
    {
      "cell_type": "code",
      "execution_count": 14,
      "metadata": {
        "colab": {
          "base_uri": "https://localhost:8080/"
        },
        "id": "Duln-TnJQprI",
        "outputId": "c3b230f7-3d1f-45f5-fd9b-b48cea7e21a1"
      },
      "outputs": [
        {
          "output_type": "stream",
          "name": "stdout",
          "text": [
            "63/63 [==============================] - 1s 12ms/step - loss: 0.3838 - accuracy: 0.9195\n"
          ]
        },
        {
          "output_type": "execute_result",
          "data": {
            "text/plain": [
              "[0.38381752371788025, 0.9194999933242798]"
            ]
          },
          "metadata": {},
          "execution_count": 14
        }
      ],
      "source": [
        "model.evaluate(X_val, y_val, verbose=1)"
      ]
    },
    {
      "cell_type": "code",
      "execution_count": 15,
      "metadata": {
        "colab": {
          "base_uri": "https://localhost:8080/",
          "height": 545
        },
        "id": "0E60nVznQprO",
        "outputId": "f2870ae3-2d27-452a-f13e-84252e39b079"
      },
      "outputs": [
        {
          "output_type": "display_data",
          "data": {
            "text/plain": [
              "<Figure size 432x288 with 1 Axes>"
            ],
            "image/png": "[encoded data removed]"
          },
          "metadata": {
            "needs_background": "light"
          }
        },
        {
          "output_type": "display_data",
          "data": {
            "text/plain": [
              "<Figure size 432x288 with 1 Axes>"
            ],
            "image/png": "[encoded data removed]"
          },
          "metadata": {
            "needs_background": "light"
          }
        }
      ],
      "source": [
        "\n",
        "# Visualize Loss & Accuracy\n",
        "\n",
        "%matplotlib inline\n",
        "import matplotlib.pyplot as plt\n",
        "acc = history.history['accuracy']\n",
        "val_acc = history.history['val_accuracy']\n",
        "loss = history.history['loss']\n",
        "val_loss = history.history['val_loss']\n",
        "\n",
        "epochs = range(len(acc))\n",
        "\n",
        "plt.plot(epochs, acc, 'r', label='Training accuracy')\n",
        "plt.plot(epochs, val_acc, 'b', label='Validation accuracy')\n",
        "plt.title('Training and validation accuracy')\n",
        "plt.legend()\n",
        "plt.figure()\n",
        "\n",
        "plt.plot(epochs, loss, 'r', label='Training Loss')\n",
        "plt.plot(epochs, val_loss, 'b', label='Validation Loss')\n",
        "plt.title('Training and validation loss')\n",
        "plt.legend()\n",
        "\n",
        "plt.show()"
      ]
    },
    {
      "cell_type": "code",
      "execution_count": 16,
      "metadata": {
        "colab": {
          "base_uri": "https://localhost:8080/"
        },
        "id": "hFGFd0gQQprP",
        "outputId": "6fa8e17e-0d30-4486-d249-a715a90f1828"
      },
      "outputs": [
        {
          "output_type": "stream",
          "name": "stdout",
          "text": [
            "she was herself in such high spirits at that moment, so far from sorrow, sadness, or self-reproach, that she purposely deceived herself as young people often do.\n",
            "joy : 0.9999862909317017\n",
            "\n"
          ]
        }
      ],
      "source": [
        "# Classify custom sample\n",
        "\n",
        "sentences = [\n",
        "            'she was herself in such high spirits at that moment, so far from sorrow, sadness, or self-reproach, that she purposely deceived herself as young people often do.'\n",
        "            ]\n",
        "for sentence in sentences:\n",
        "    print(sentence)\n",
        "    sentence = clean(sentence)\n",
        "    sentence = tokenizer.texts_to_sequences([sentence])\n",
        "    sentence = pad_sequences(sentence, maxlen=256, truncating='pre')\n",
        "    result = le.inverse_transform(np.argmax(model.predict(sentence), axis=-1))[0]\n",
        "    proba =  np.max(model.predict(sentence))\n",
        "    print(f\"{result} : {proba}\\n\")"
      ]
    },
    {
      "cell_type": "code",
      "source": [
        "df_sample = pd.read_csv('tweets_clean.csv') #load data tweet yang sudah di cleaning\n",
        "df_sample.head(3) #lihat data 3 paing atas"
      ],
      "metadata": {
        "colab": {
          "base_uri": "https://localhost:8080/",
          "height": 143
        },
        "id": "OvPpjFL_hqqx",
        "outputId": "b3d73782-dad2-4342-fe22-90d73dacfd67"
      },
      "execution_count": 18,
      "outputs": [
        {
          "output_type": "execute_result",
          "data": {
            "text/plain": [
              "   Unnamed: 0 keyword                                               text\n",
              "0           0  ablaze  communal violence in bhainsa telangana stones ...\n",
              "1           1  ablaze  telangana section  has been imposed in bhainsa...\n",
              "2           2  ablaze           arsonist sets cars ablaze at dealership "
            ],
            "text/html": [
              "\n",
              "  <div id=\"df-0287b3ef-bb8d-4b5a-92ac-19de26324afb\">\n",
              "    <div class=\"colab-df-container\">\n",
              "      <div>\n",
              "<style scoped>\n",
              "    .dataframe tbody tr th:only-of-type {\n",
              "        vertical-align: middle;\n",
              "    }\n",
              "\n",
              "    .dataframe tbody tr th {\n",
              "        vertical-align: top;\n",
              "    }\n",
              "\n",
              "    .dataframe thead th {\n",
              "        text-align: right;\n",
              "    }\n",
              "</style>\n",
              "<table border=\"1\" class=\"dataframe\">\n",
              "  <thead>\n",
              "    <tr style=\"text-align: right;\">\n",
              "      <th></th>\n",
              "      <th>Unnamed: 0</th>\n",
              "      <th>keyword</th>\n",
              "      <th>text</th>\n",
              "    </tr>\n",
              "  </thead>\n",
              "  <tbody>\n",
              "    <tr>\n",
              "      <th>0</th>\n",
              "      <td>0</td>\n",
              "      <td>ablaze</td>\n",
              "      <td>communal violence in bhainsa telangana stones ...</td>\n",
              "    </tr>\n",
              "    <tr>\n",
              "      <th>1</th>\n",
              "      <td>1</td>\n",
              "      <td>ablaze</td>\n",
              "      <td>telangana section  has been imposed in bhainsa...</td>\n",
              "    </tr>\n",
              "    <tr>\n",
              "      <th>2</th>\n",
              "      <td>2</td>\n",
              "      <td>ablaze</td>\n",
              "      <td>arsonist sets cars ablaze at dealership</td>\n",
              "    </tr>\n",
              "  </tbody>\n",
              "</table>\n",
              "</div>\n",
              "      <button class=\"colab-df-convert\" onclick=\"convertToInteractive('df-0287b3ef-bb8d-4b5a-92ac-19de26324afb')\"\n",
              "              title=\"Convert this dataframe to an interactive table.\"\n",
              "              style=\"display:none;\">\n",
              "        \n",
              "  <svg xmlns=\"http://www.w3.org/2000/svg\" height=\"24px\"viewBox=\"0 0 24 24\"\n",
              "       width=\"24px\">\n",
              "    <path d=\"M0 0h24v24H0V0z\" fill=\"none\"/>\n",
              "    <path d=\"M18.56 5.44l.94 2.06.94-2.06 2.06-.94-2.06-.94-.94-2.06-.94 2.06-2.06.94zm-11 1L8.5 8.5l.94-2.06 2.06-.94-2.06-.94L8.5 2.5l-.94 2.06-2.06.94zm10 10l.94 2.06.94-2.06 2.06-.94-2.06-.94-.94-2.06-.94 2.06-2.06.94z\"/><path d=\"M17.41 7.96l-1.37-1.37c-.4-.4-.92-.59-1.43-.59-.52 0-1.04.2-1.43.59L10.3 9.45l-7.72 7.72c-.78.78-.78 2.05 0 2.83L4 21.41c.39.39.9.59 1.41.59.51 0 1.02-.2 1.41-.59l7.78-7.78 2.81-2.81c.8-.78.8-2.07 0-2.86zM5.41 20L4 18.59l7.72-7.72 1.47 1.35L5.41 20z\"/>\n",
              "  </svg>\n",
              "      </button>\n",
              "      \n",
              "  <style>\n",
              "    .colab-df-container {\n",
              "      display:flex;\n",
              "      flex-wrap:wrap;\n",
              "      gap: 12px;\n",
              "    }\n",
              "\n",
              "    .colab-df-convert {\n",
              "      background-color: #E8F0FE;\n",
              "      border: none;\n",
              "      border-radius: 50%;\n",
              "      cursor: pointer;\n",
              "      display: none;\n",
              "      fill: #1967D2;\n",
              "      height: 32px;\n",
              "      padding: 0 0 0 0;\n",
              "      width: 32px;\n",
              "    }\n",
              "\n",
              "    .colab-df-convert:hover {\n",
              "      background-color: #E2EBFA;\n",
              "      box-shadow: 0px 1px 2px rgba(60, 64, 67, 0.3), 0px 1px 3px 1px rgba(60, 64, 67, 0.15);\n",
              "      fill: #174EA6;\n",
              "    }\n",
              "\n",
              "    [theme=dark] .colab-df-convert {\n",
              "      background-color: #3B4455;\n",
              "      fill: #D2E3FC;\n",
              "    }\n",
              "\n",
              "    [theme=dark] .colab-df-convert:hover {\n",
              "      background-color: #434B5C;\n",
              "      box-shadow: 0px 1px 3px 1px rgba(0, 0, 0, 0.15);\n",
              "      filter: drop-shadow(0px 1px 2px rgba(0, 0, 0, 0.3));\n",
              "      fill: #FFFFFF;\n",
              "    }\n",
              "  </style>\n",
              "\n",
              "      <script>\n",
              "        const buttonEl =\n",
              "          document.querySelector('#df-0287b3ef-bb8d-4b5a-92ac-19de26324afb button.colab-df-convert');\n",
              "        buttonEl.style.display =\n",
              "          google.colab.kernel.accessAllowed ? 'block' : 'none';\n",
              "\n",
              "        async function convertToInteractive(key) {\n",
              "          const element = document.querySelector('#df-0287b3ef-bb8d-4b5a-92ac-19de26324afb');\n",
              "          const dataTable =\n",
              "            await google.colab.kernel.invokeFunction('convertToInteractive',\n",
              "                                                     [key], {});\n",
              "          if (!dataTable) return;\n",
              "\n",
              "          const docLinkHtml = 'Like what you see? Visit the ' +\n",
              "            '<a target=\"_blank\" href=https://colab.research.google.com/notebooks/data_table.ipynb>data table notebook</a>'\n",
              "            + ' to learn more about interactive tables.';\n",
              "          element.innerHTML = '';\n",
              "          dataTable['output_type'] = 'display_data';\n",
              "          await google.colab.output.renderOutput(dataTable, element);\n",
              "          const docLink = document.createElement('div');\n",
              "          docLink.innerHTML = docLinkHtml;\n",
              "          element.appendChild(docLink);\n",
              "        }\n",
              "      </script>\n",
              "    </div>\n",
              "  </div>\n",
              "  "
            ]
          },
          "metadata": {},
          "execution_count": 18
        }
      ]
    },
    {
      "cell_type": "code",
      "source": [
        "df_tes = df_sample.text #ambil kolom textnya aja untuk di analisis sentimennya\n",
        "df_tes"
      ],
      "metadata": {
        "colab": {
          "base_uri": "https://localhost:8080/"
        },
        "id": "vuMaU1OJq0p6",
        "outputId": "7a945ef0-03b5-40ce-cad3-a9fe089c3d04"
      },
      "execution_count": 19,
      "outputs": [
        {
          "output_type": "execute_result",
          "data": {
            "text/plain": [
              "0        communal violence in bhainsa telangana stones ...\n",
              "1        telangana section  has been imposed in bhainsa...\n",
              "2                 arsonist sets cars ablaze at dealership \n",
              "3                arsonist sets cars ablaze at dealership  \n",
              "4        lord jesus your love brings freedom and pardon...\n",
              "                               ...                        \n",
              "10939    media should have warned us well in advance th...\n",
              "10940    i feel directly attacked  i consider moonbin a...\n",
              "10941    i feel directly attacked  i consider moonbin a...\n",
              "10942    ok who remember outcast nd the dora au those a...\n",
              "10943          jake corway wrecked while running th at irp\n",
              "Name: text, Length: 10944, dtype: object"
            ]
          },
          "metadata": {},
          "execution_count": 19
        }
      ]
    },
    {
      "cell_type": "code",
      "source": [
        "hasil = [] #hasil simpan disini\n",
        "sentences = df_tes #text yang mau di analisis sentimentnya\n",
        "i = 1\n",
        "for sentence in sentences:\n",
        "    sentence = clean(str(sentence)) #di cleansing lagi incase ada yg miss\n",
        "    sentence = tokenizer.texts_to_sequences([sentence]) #tokenizer\n",
        "    sentence = pad_sequences(sentence, maxlen=256, truncating='pre') #dibikin sequences\n",
        "    result = le.inverse_transform(np.argmax(model.predict(sentence), axis=-1))[0] #label encoder\n",
        "    proba =  np.max(model.predict(sentence)) #prediksi\n",
        "    a = result\n",
        "    hasil.append(a)"
      ],
      "metadata": {
        "id": "sSt3fbWipkjD"
      },
      "execution_count": 22,
      "outputs": []
    },
    {
      "cell_type": "code",
      "source": [
        "#bikin df hasil analisis sentimen\n",
        "column = {'Sentiment' : hasil}\n",
        "df_hasil = pd.DataFrame(column) \n",
        "df_hasil"
      ],
      "metadata": {
        "colab": {
          "base_uri": "https://localhost:8080/",
          "height": 424
        },
        "id": "GRnn1YM0qaGr",
        "outputId": "38c9344e-3022-4143-bf91-413d8e50013d"
      },
      "execution_count": 23,
      "outputs": [
        {
          "output_type": "execute_result",
          "data": {
            "text/plain": [
              "      Sentiment\n",
              "0         anger\n",
              "1         anger\n",
              "2          fear\n",
              "3          fear\n",
              "4           joy\n",
              "...         ...\n",
              "10939     anger\n",
              "10940   sadness\n",
              "10941   sadness\n",
              "10942       joy\n",
              "10943     anger\n",
              "\n",
              "[10944 rows x 1 columns]"
            ],
            "text/html": [
              "\n",
              "  <div id=\"df-6979589a-11c7-4286-bcac-b6a433789222\">\n",
              "    <div class=\"colab-df-container\">\n",
              "      <div>\n",
              "<style scoped>\n",
              "    .dataframe tbody tr th:only-of-type {\n",
              "        vertical-align: middle;\n",
              "    }\n",
              "\n",
              "    .dataframe tbody tr th {\n",
              "        vertical-align: top;\n",
              "    }\n",
              "\n",
              "    .dataframe thead th {\n",
              "        text-align: right;\n",
              "    }\n",
              "</style>\n",
              "<table border=\"1\" class=\"dataframe\">\n",
              "  <thead>\n",
              "    <tr style=\"text-align: right;\">\n",
              "      <th></th>\n",
              "      <th>Sentiment</th>\n",
              "    </tr>\n",
              "  </thead>\n",
              "  <tbody>\n",
              "    <tr>\n",
              "      <th>0</th>\n",
              "      <td>anger</td>\n",
              "    </tr>\n",
              "    <tr>\n",
              "      <th>1</th>\n",
              "      <td>anger</td>\n",
              "    </tr>\n",
              "    <tr>\n",
              "      <th>2</th>\n",
              "      <td>fear</td>\n",
              "    </tr>\n",
              "    <tr>\n",
              "      <th>3</th>\n",
              "      <td>fear</td>\n",
              "    </tr>\n",
              "    <tr>\n",
              "      <th>4</th>\n",
              "      <td>joy</td>\n",
              "    </tr>\n",
              "    <tr>\n",
              "      <th>...</th>\n",
              "      <td>...</td>\n",
              "    </tr>\n",
              "    <tr>\n",
              "      <th>10939</th>\n",
              "      <td>anger</td>\n",
              "    </tr>\n",
              "    <tr>\n",
              "      <th>10940</th>\n",
              "      <td>sadness</td>\n",
              "    </tr>\n",
              "    <tr>\n",
              "      <th>10941</th>\n",
              "      <td>sadness</td>\n",
              "    </tr>\n",
              "    <tr>\n",
              "      <th>10942</th>\n",
              "      <td>joy</td>\n",
              "    </tr>\n",
              "    <tr>\n",
              "      <th>10943</th>\n",
              "      <td>anger</td>\n",
              "    </tr>\n",
              "  </tbody>\n",
              "</table>\n",
              "<p>10944 rows × 1 columns</p>\n",
              "</div>\n",
              "      <button class=\"colab-df-convert\" onclick=\"convertToInteractive('df-6979589a-11c7-4286-bcac-b6a433789222')\"\n",
              "              title=\"Convert this dataframe to an interactive table.\"\n",
              "              style=\"display:none;\">\n",
              "        \n",
              "  <svg xmlns=\"http://www.w3.org/2000/svg\" height=\"24px\"viewBox=\"0 0 24 24\"\n",
              "       width=\"24px\">\n",
              "    <path d=\"M0 0h24v24H0V0z\" fill=\"none\"/>\n",
              "    <path d=\"M18.56 5.44l.94 2.06.94-2.06 2.06-.94-2.06-.94-.94-2.06-.94 2.06-2.06.94zm-11 1L8.5 8.5l.94-2.06 2.06-.94-2.06-.94L8.5 2.5l-.94 2.06-2.06.94zm10 10l.94 2.06.94-2.06 2.06-.94-2.06-.94-.94-2.06-.94 2.06-2.06.94z\"/><path d=\"M17.41 7.96l-1.37-1.37c-.4-.4-.92-.59-1.43-.59-.52 0-1.04.2-1.43.59L10.3 9.45l-7.72 7.72c-.78.78-.78 2.05 0 2.83L4 21.41c.39.39.9.59 1.41.59.51 0 1.02-.2 1.41-.59l7.78-7.78 2.81-2.81c.8-.78.8-2.07 0-2.86zM5.41 20L4 18.59l7.72-7.72 1.47 1.35L5.41 20z\"/>\n",
              "  </svg>\n",
              "      </button>\n",
              "      \n",
              "  <style>\n",
              "    .colab-df-container {\n",
              "      display:flex;\n",
              "      flex-wrap:wrap;\n",
              "      gap: 12px;\n",
              "    }\n",
              "\n",
              "    .colab-df-convert {\n",
              "      background-color: #E8F0FE;\n",
              "      border: none;\n",
              "      border-radius: 50%;\n",
              "      cursor: pointer;\n",
              "      display: none;\n",
              "      fill: #1967D2;\n",
              "      height: 32px;\n",
              "      padding: 0 0 0 0;\n",
              "      width: 32px;\n",
              "    }\n",
              "\n",
              "    .colab-df-convert:hover {\n",
              "      background-color: #E2EBFA;\n",
              "      box-shadow: 0px 1px 2px rgba(60, 64, 67, 0.3), 0px 1px 3px 1px rgba(60, 64, 67, 0.15);\n",
              "      fill: #174EA6;\n",
              "    }\n",
              "\n",
              "    [theme=dark] .colab-df-convert {\n",
              "      background-color: #3B4455;\n",
              "      fill: #D2E3FC;\n",
              "    }\n",
              "\n",
              "    [theme=dark] .colab-df-convert:hover {\n",
              "      background-color: #434B5C;\n",
              "      box-shadow: 0px 1px 3px 1px rgba(0, 0, 0, 0.15);\n",
              "      filter: drop-shadow(0px 1px 2px rgba(0, 0, 0, 0.3));\n",
              "      fill: #FFFFFF;\n",
              "    }\n",
              "  </style>\n",
              "\n",
              "      <script>\n",
              "        const buttonEl =\n",
              "          document.querySelector('#df-6979589a-11c7-4286-bcac-b6a433789222 button.colab-df-convert');\n",
              "        buttonEl.style.display =\n",
              "          google.colab.kernel.accessAllowed ? 'block' : 'none';\n",
              "\n",
              "        async function convertToInteractive(key) {\n",
              "          const element = document.querySelector('#df-6979589a-11c7-4286-bcac-b6a433789222');\n",
              "          const dataTable =\n",
              "            await google.colab.kernel.invokeFunction('convertToInteractive',\n",
              "                                                     [key], {});\n",
              "          if (!dataTable) return;\n",
              "\n",
              "          const docLinkHtml = 'Like what you see? Visit the ' +\n",
              "            '<a target=\"_blank\" href=https://colab.research.google.com/notebooks/data_table.ipynb>data table notebook</a>'\n",
              "            + ' to learn more about interactive tables.';\n",
              "          element.innerHTML = '';\n",
              "          dataTable['output_type'] = 'display_data';\n",
              "          await google.colab.output.renderOutput(dataTable, element);\n",
              "          const docLink = document.createElement('div');\n",
              "          docLink.innerHTML = docLinkHtml;\n",
              "          element.appendChild(docLink);\n",
              "        }\n",
              "      </script>\n",
              "    </div>\n",
              "  </div>\n",
              "  "
            ]
          },
          "metadata": {},
          "execution_count": 23
        }
      ]
    },
    {
      "cell_type": "code",
      "source": [
        "df_end = pd.concat([df_sample, df_hasil]) #merger terus simpan hasilnya --lanjut ke notebook visualisasi\n",
        "df_end.to_csv('tweets_final.csv')"
      ],
      "metadata": {
        "id": "Naga6CBurI0Y"
      },
      "execution_count": 25,
      "outputs": []
    },
    {
      "cell_type": "code",
      "source": [
        ""
      ],
      "metadata": {
        "id": "exVsjY72POPs"
      },
      "execution_count": null,
      "outputs": []
    }
  ],
  "metadata": {
    "accelerator": "GPU",
    "colab": {
      "collapsed_sections": [],
      "name": "model dan prediksi.ipynb",
      "provenance": []
    },
    "gpuClass": "standard",
    "kernelspec": {
      "display_name": "Python 3",
      "language": "python",
      "name": "python3"
    },
    "language_info": {
      "codemirror_mode": {
        "name": "ipython",
        "version": 3
      },
      "file_extension": ".py",
      "mimetype": "text/x-python",
      "name": "python",
      "nbconvert_exporter": "python",
      "pygments_lexer": "ipython3",
      "version": "3.6.4"
    }
  },
  "nbformat": 4,
  "nbformat_minor": 0
}